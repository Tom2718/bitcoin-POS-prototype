{
 "cells": [
  {
   "cell_type": "markdown",
   "metadata": {},
   "source": [
    "# QR Code Transaction Creator and Checker\n",
    "\n",
    "Background\n",
    "\n",
    "\n",
    "Shops need to have a fast way of accepting digital transactions. As indicated by Bitcoin analyst, Andreas Antonopolous, for small bitcoin transactions, waiting for confirmations is as unneccessary as waiting for a credit card company to comfirm. Hence this notebook will focus on instant creation of a bitcoin transaction qr code and checking for successful broadcasting of the transacttion.\n",
    "\n",
    "\n",
    "\n",
    "Goals:\n",
    "\n",
    "- Take input as value of item in rand\n",
    "- Convert value to BTC using live price from Luno\n",
    "- Display QR code to customers with custom transaction\n",
    "- Monitor Blochain.info for broadcast transaction\n",
    "- Display payment success when transaction found"
   ]
  },
  {
   "cell_type": "code",
   "execution_count": 13,
   "metadata": {
    "collapsed": true
   },
   "outputs": [],
   "source": [
    "from requests import *\n",
    "import webbrowser"
   ]
  },
  {
   "cell_type": "code",
   "execution_count": 16,
   "metadata": {
    "collapsed": false
   },
   "outputs": [],
   "source": [
    "#Enter Details of Product/total price and some description (possibly just default to shop name)\n",
    "\n",
    "#Rand Value of Products\n",
    "randVal = 125.56\n",
    "\n",
    "#Description of Products\n",
    "desc = \"billys-coffee-shop\""
   ]
  },
  {
   "cell_type": "code",
   "execution_count": 17,
   "metadata": {
    "collapsed": false
   },
   "outputs": [],
   "source": [
    "# Hard-code your bitcoin address\n",
    "my_BTC_address = \"1CGVT1BTV6Q2wpSm1R2vp8L4nCPgq4BuCQ\""
   ]
  },
  {
   "cell_type": "code",
   "execution_count": 18,
   "metadata": {
    "collapsed": false
   },
   "outputs": [],
   "source": [
    "#Calculate value of item in BTC using Current Luno Price\n",
    "\n",
    "#Get Luno price\n",
    "luno_xrate = get(\"https://api.mybitx.com/api/1/ticker?pair=XBTZAR\").json()['ask']\n",
    "\n",
    "#Calculate the BTC value from the rand value\n",
    "amount = round(randVal/float(luno_xrate),8)"
   ]
  },
  {
   "cell_type": "code",
   "execution_count": 19,
   "metadata": {
    "collapsed": false
   },
   "outputs": [],
   "source": [
    "#Generate QR Code\n",
    "\n",
    "#Generate the URL for creating the QR Code\n",
    "btcURL = str(\"https://chart.googleapis.com/chart?chs=250x250&cht=qr&&chl=bitcoin:\" + \n",
    "            my_BTC_address + \n",
    "            \"?amount=\" +\n",
    "            str(amount) +\n",
    "            \"&label=\" +\n",
    "            desc)"
   ]
  },
  {
   "cell_type": "code",
   "execution_count": 20,
   "metadata": {
    "collapsed": false
   },
   "outputs": [
    {
     "data": {
      "text/plain": [
       "True"
      ]
     },
     "execution_count": 20,
     "metadata": {},
     "output_type": "execute_result"
    }
   ],
   "source": [
    "webbrowser.open_new_tab(btcURL)"
   ]
  },
  {
   "cell_type": "code",
   "execution_count": null,
   "metadata": {
    "collapsed": true
   },
   "outputs": [],
   "source": []
  }
 ],
 "metadata": {
  "anaconda-cloud": {},
  "kernelspec": {
   "display_name": "Python [conda root]",
   "language": "python",
   "name": "conda-root-py"
  },
  "language_info": {
   "codemirror_mode": {
    "name": "ipython",
    "version": 3
   },
   "file_extension": ".py",
   "mimetype": "text/x-python",
   "name": "python",
   "nbconvert_exporter": "python",
   "pygments_lexer": "ipython3",
   "version": "3.5.2"
  }
 },
 "nbformat": 4,
 "nbformat_minor": 2
}
