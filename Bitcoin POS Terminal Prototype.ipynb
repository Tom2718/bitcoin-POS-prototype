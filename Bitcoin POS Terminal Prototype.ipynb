{
 "cells": [
  {
   "cell_type": "markdown",
   "metadata": {},
   "source": [
    "# QR Code Transaction Creator and Checker\n",
    "\n",
    "Background\n",
    "\n",
    "\n",
    "Shops need to have a fast way of accepting digital transactions. As indicated by Bitcoin analyst, Andreas Antonopolous, for small bitcoin transactions, waiting for confirmations is as unneccessary as waiting for a credit card company to comfirm. Hence this notebook will focus on instant creation of a bitcoin transaction qr code and checking for successful broadcasting of the transacttion.\n",
    "\n",
    "\n",
    "\n",
    "Goals:\n",
    "\n",
    "- Take input as value of item in rand\n",
    "- Convert value to BTC using live price from Luno\n",
    "- Display QR code to customers with custom transaction\n",
    "- Monitor Blochain.info for broadcast transaction\n",
    "- Display payment success when transaction found"
   ]
  },
  {
   "cell_type": "code",
   "execution_count": 45,
   "metadata": {
    "collapsed": false
   },
   "outputs": [],
   "source": [
    "from requests import *\n",
    "from webbrowser import open_new_tab\n",
    "from websocket import create_connection\n",
    "import json"
   ]
  },
  {
   "cell_type": "code",
   "execution_count": 46,
   "metadata": {
    "collapsed": false
   },
   "outputs": [],
   "source": [
    "#Enter Details of Product/total price and some description (possibly just default to shop name)\n",
    "\n",
    "#Rand Value of Products\n",
    "randVal = 125.56\n",
    "\n",
    "#Description of Products\n",
    "desc = \"billys-coffee-shop\""
   ]
  },
  {
   "cell_type": "code",
   "execution_count": 47,
   "metadata": {
    "collapsed": false
   },
   "outputs": [],
   "source": [
    "# Hard-code your bitcoin address\n",
    "my_BTC_address = \"1CGVT1BTV6Q2wpSm1R2vp8L4nCPgq4BuCQ\""
   ]
  },
  {
   "cell_type": "code",
   "execution_count": 48,
   "metadata": {
    "collapsed": false
   },
   "outputs": [],
   "source": [
    "#Calculate value of item in BTC using Current Luno Price\n",
    "\n",
    "#Get Luno price\n",
    "luno_xrate = get(\"https://api.mybitx.com/api/1/ticker?pair=XBTZAR\").json()['ask']\n",
    "\n",
    "#Calculate the BTC value from the rand value\n",
    "amount = round(randVal/float(luno_xrate),8)"
   ]
  },
  {
   "cell_type": "code",
   "execution_count": 49,
   "metadata": {
    "collapsed": false
   },
   "outputs": [],
   "source": [
    "#Generate QR Code\n",
    "\n",
    "#Generate the URL for creating the QR Code\n",
    "btcURL = str(\"https://chart.googleapis.com/chart?chs=250x250&cht=qr&&chl=bitcoin:\" + \n",
    "            my_BTC_address + \n",
    "            \"?amount=\" +\n",
    "            str(amount) +\n",
    "            \"&label=\" +\n",
    "            desc)"
   ]
  },
  {
   "cell_type": "code",
   "execution_count": 50,
   "metadata": {
    "collapsed": false
   },
   "outputs": [
    {
     "data": {
      "text/plain": [
       "True"
      ]
     },
     "execution_count": 50,
     "metadata": {},
     "output_type": "execute_result"
    }
   ],
   "source": [
    "#One possibility is to just open each new generated URL in a browser;\n",
    "#maybe the application will work in the browser eventually\n",
    "open_new_tab(btcURL)"
   ]
  },
  {
   "cell_type": "markdown",
   "metadata": {},
   "source": [
    "Example Screenshot of Generated QR Code\n",
    "<img src=\"http://github.com/tom2718\">"
   ]
  },
  {
   "cell_type": "code",
   "execution_count": 51,
   "metadata": {
    "collapsed": false
   },
   "outputs": [
    {
     "name": "stdout",
     "output_type": "stream",
     "text": [
      "pending\n",
      "success\n"
     ]
    }
   ],
   "source": [
    "#Check status of Transaction\n",
    "\n",
    "#Subribe to WebSocket feed of blockchain.info for any new transactions sent to your Address\n",
    "ws = create_connection(\"wss://ws.blockchain.info/inv\")\n",
    "ws.send(json.dumps({\"op\":\"unconfirmed_sub\"}))     #{\"op\":\"addr_sub\", \"addr\":my_BTC_address})) #Uncomment the different \"op\" for desired check\n",
    "    \n",
    "print(\"pending\")\n",
    "result =  ws.recv()\n",
    "# print (result)\n",
    "print(\"success\")\n",
    "ws.close()"
   ]
  },
  {
   "cell_type": "code",
   "execution_count": 52,
   "metadata": {
    "collapsed": true
   },
   "outputs": [],
   "source": [
    "#Function to Confirm a Transaction send a specific address a predefined amount within 1 satoshi\n",
    "def confirm_tx(outs, satValue, addr=\"1CGVT1BTV6Q2wpSm1R2vp8L4nCPgq4BuCQ\"):\n",
    "    for out in outs:\n",
    "        if satValue-1<=out[\"value\"]<=satValue+1 and out[\"addr\"]==addr:\n",
    "            return True\n",
    "        else:\n",
    "            print (\"out_value:\",out[\"value\"],\"out_addr:\",out[\"addr\"])\n",
    "            return False"
   ]
  },
  {
   "cell_type": "code",
   "execution_count": 53,
   "metadata": {
    "collapsed": false
   },
   "outputs": [
    {
     "name": "stdout",
     "output_type": "stream",
     "text": [
      "out_value: 10600059 out_addr: 15V1aJKy71x7v792KDNLC2aSknqXvWmQkB\n",
      "Total Inputs: 93464634\n",
      "Transaction fee too low: 27677\n"
     ]
    }
   ],
   "source": [
    "#Confirm Transaction\n",
    "\n",
    "#Confirm the amount sent to our address\n",
    "# if randVal <= 10000:\n",
    "if(confirm_tx(json.loads(result)[\"x\"][\"out\"], int(amount*1e8))):\n",
    "    print(\"Transaction Received\")\n",
    "\n",
    "#Confirm that there is a tx fee greater than a threshold\n",
    "#Sum the inputs\n",
    "total_in = 0\n",
    "for inpt in json.loads(result)[\"x\"][\"inputs\"]:\n",
    "#     if len(inpt)>2: #Ignore script only input\n",
    "    total_in += inpt[\"prev_out\"][\"value\"]\n",
    "\n",
    "print(\"Total Inputs:\", total_in)\n",
    "    \n",
    "#Sum the Outputs\n",
    "total_out = 0\n",
    "for outpt in json.loads(result)[\"x\"][\"out\"]:\n",
    "    total_out += outpt[\"value\"]\n",
    "\n",
    "#Check leftover amount i.e. Tx fee\n",
    "if total_in - total_out > 5e4: #Minimum transaction fee = 50 000 Satoshi\n",
    "    print (\"Success! Payment Confirmed.\")\n",
    "else:\n",
    "    print(\"Transaction fee too low:\", total_in-total_out)\n"
   ]
  },
  {
   "cell_type": "markdown",
   "metadata": {},
   "source": [
    "#### Conclusion and To Dos\n",
    "\n",
    "The entire confirmation of the transaction should be done in a while loop to monitor event as the websocket pushes them to us. Then we deal with each event."
   ]
  }
 ],
 "metadata": {
  "anaconda-cloud": {},
  "kernelspec": {
   "display_name": "Python [conda root]",
   "language": "python",
   "name": "conda-root-py"
  },
  "language_info": {
   "codemirror_mode": {
    "name": "ipython",
    "version": 3
   },
   "file_extension": ".py",
   "mimetype": "text/x-python",
   "name": "python",
   "nbconvert_exporter": "python",
   "pygments_lexer": "ipython3",
   "version": "3.5.2"
  }
 },
 "nbformat": 4,
 "nbformat_minor": 2
}
