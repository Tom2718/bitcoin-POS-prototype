{
 "cells": [
  {
   "cell_type": "markdown",
   "metadata": {},
   "source": [
    "# QR Code Transaction Creator and Checker\n",
    "\n",
    "Background\n",
    "\n",
    "\n",
    "Shops need to have a fast way of accepting digital transactions. As indicated by Bitcoin analyst, Andreas Antonopolous, for small bitcoin transactions, waiting for confirmations is as unneccessary as waiting for a credit card company to comfirm. Hence this notebook will focus on instant creation of a bitcoin transaction qr code and checking for successful broadcasting of the transacttion.\n",
    "\n",
    "\n",
    "\n",
    "Goals:\n",
    "\n",
    "- Take input as value of item in rand\n",
    "- Convert value to BTC using live price from Luno\n",
    "- Display QR code to customers with custom transaction\n",
    "- Monitor Blochain.info for broadcast transaction\n",
    "- Display payment success when transaction found"
   ]
  },
  {
   "cell_type": "code",
   "execution_count": 1,
   "metadata": {
    "collapsed": false
   },
   "outputs": [],
   "source": [
    "from requests import *\n",
    "from webbrowser import open_new_tab\n",
    "from websocket import create_connection\n",
    "import json"
   ]
  },
  {
   "cell_type": "code",
   "execution_count": 2,
   "metadata": {
    "collapsed": false
   },
   "outputs": [],
   "source": [
    "#Enter Details of Product/total price and some description (possibly just default to shop name)\n",
    "\n",
    "#Rand Value of Products\n",
    "randVal = 125.56\n",
    "\n",
    "#Description of Products\n",
    "desc = \"billys-coffee-shop\""
   ]
  },
  {
   "cell_type": "code",
   "execution_count": 3,
   "metadata": {
    "collapsed": false
   },
   "outputs": [],
   "source": [
    "# Hard-code your bitcoin address\n",
    "my_BTC_address = \"1CGVT1BTV6Q2wpSm1R2vp8L4nCPgq4BuCQ\""
   ]
  },
  {
   "cell_type": "code",
   "execution_count": 4,
   "metadata": {
    "collapsed": false
   },
   "outputs": [],
   "source": [
    "#Calculate value of item in BTC using Current Luno Price\n",
    "\n",
    "#Get Luno price\n",
    "luno_xrate = get(\"https://api.mybitx.com/api/1/ticker?pair=XBTZAR\").json()['ask']\n",
    "\n",
    "#Calculate the BTC value from the rand value\n",
    "amount = round(randVal/float(luno_xrate),8)"
   ]
  },
  {
   "cell_type": "code",
   "execution_count": 5,
   "metadata": {
    "collapsed": false
   },
   "outputs": [],
   "source": [
    "#Generate QR Code\n",
    "\n",
    "#Generate the URL for creating the QR Code\n",
    "btcURL = str(\"https://chart.googleapis.com/chart?chs=250x250&cht=qr&&chl=bitcoin:\" + \n",
    "            my_BTC_address + \n",
    "            \"?amount=\" +\n",
    "            str(amount) +\n",
    "            \"&label=\" +\n",
    "            desc)"
   ]
  },
  {
   "cell_type": "code",
   "execution_count": 6,
   "metadata": {
    "collapsed": false
   },
   "outputs": [
    {
     "data": {
      "text/plain": [
       "True"
      ]
     },
     "execution_count": 6,
     "metadata": {},
     "output_type": "execute_result"
    }
   ],
   "source": [
    "#One possibility is to just open each new generated URL in a browser;\n",
    "#maybe the application will work in the browser eventually\n",
    "open_new_tab(btcURL)"
   ]
  },
  {
   "cell_type": "markdown",
   "metadata": {},
   "source": [
    "Example Screenshot of Generated QR Code\n",
    "<img src=\"http://github.com/tom2718\">"
   ]
  },
  {
   "cell_type": "code",
   "execution_count": 7,
   "metadata": {
    "collapsed": false
   },
   "outputs": [
    {
     "data": {
      "text/plain": [
       "10"
      ]
     },
     "execution_count": 7,
     "metadata": {},
     "output_type": "execute_result"
    }
   ],
   "source": [
    "#Check status of Transaction\n",
    "\n",
    "#Subribe to RSS feed of blockchain.info for any new transactions sent to your Address\n",
    "confirm = get(\"https://blockchain.info/rawaddr/\"+my_BTC_address+\"?filter=2\").json()\n",
    "confirm['n_tx']\n"
   ]
  },
  {
   "cell_type": "code",
   "execution_count": 8,
   "metadata": {
    "collapsed": false
   },
   "outputs": [
    {
     "ename": "NameError",
     "evalue": "name 'websockets' is not defined",
     "output_type": "error",
     "traceback": [
      "\u001b[0;31m---------------------------------------------------------------------------\u001b[0m",
      "\u001b[0;31mNameError\u001b[0m                                 Traceback (most recent call last)",
      "\u001b[0;32m<ipython-input-8-75a30560e466>\u001b[0m in \u001b[0;36m<module>\u001b[0;34m()\u001b[0m\n\u001b[1;32m     41\u001b[0m         \u001b[0mawait\u001b[0m \u001b[0mwebsocket\u001b[0m\u001b[1;33m.\u001b[0m\u001b[0msend\u001b[0m\u001b[1;33m(\u001b[0m\u001b[0mjson\u001b[0m\u001b[1;33m.\u001b[0m\u001b[0mdumps\u001b[0m\u001b[1;33m(\u001b[0m\u001b[1;33m{\u001b[0m\u001b[1;34m\"op\"\u001b[0m\u001b[1;33m:\u001b[0m\u001b[1;34m\"addr_sub\"\u001b[0m\u001b[1;33m,\u001b[0m \u001b[1;34m\"addr\"\u001b[0m\u001b[1;33m:\u001b[0m\u001b[0mmy_BTC_address\u001b[0m\u001b[1;33m}\u001b[0m\u001b[1;33m)\u001b[0m\u001b[1;33m)\u001b[0m\u001b[1;33m\u001b[0m\u001b[0m\n\u001b[1;32m     42\u001b[0m \u001b[1;33m\u001b[0m\u001b[0m\n\u001b[0;32m---> 43\u001b[0;31m \u001b[0mws\u001b[0m \u001b[1;33m=\u001b[0m \u001b[0mwebsockets\u001b[0m\u001b[1;33m.\u001b[0m\u001b[0mconnect\u001b[0m\u001b[1;33m(\u001b[0m\u001b[1;34m\"wss://ws.blockchain.info/inv\"\u001b[0m\u001b[1;33m)\u001b[0m\u001b[1;33m\u001b[0m\u001b[0m\n\u001b[0m\u001b[1;32m     44\u001b[0m \u001b[0mconsumer_handler\u001b[0m\u001b[1;33m(\u001b[0m\u001b[0mws\u001b[0m\u001b[1;33m,\u001b[0m\u001b[1;34m\"wss://ws.blockchain.info/inv\"\u001b[0m\u001b[1;33m)\u001b[0m\u001b[1;33m\u001b[0m\u001b[0m\n\u001b[1;32m     45\u001b[0m \u001b[1;33m\u001b[0m\u001b[0m\n",
      "\u001b[0;31mNameError\u001b[0m: name 'websockets' is not defined"
     ]
    }
   ],
   "source": [
    "# feedparser.parse(\"wss://ws.blockchain.info/inv\")\n",
    "\n",
    "# {\"op\":\"addr_sub\", \"addr\":my_BTC_address}\n",
    "\n",
    "# async def socket_subscribe(websocket, path):\n",
    "#     while True:\n",
    "#         message = await websocket.recv()\n",
    "#         await consumer(message)\n",
    "        \n",
    "        \n",
    "# {\"op\":\"ping\"}\n",
    "\n",
    "# ws = create_connection(\"wss://ws.dogechain.info/inv\")\n",
    "# ws.send(json.dumps({\"op\":\"addr_sub\", \"addr\":\"dogecoin_address\"}))\n",
    "# result =  ws.recv()\n",
    "# print (result)\n",
    "# ws.close()\n",
    "\n",
    "async def socket_sub():\n",
    "    async with websockets.connect(\"wss://ws.blockchain.info/inv\") as websocket:\n",
    "        await websocket.send(json.dumps({\"op\":\"addr_sub\", \"addr\":my_BTC_address}))\n",
    "        result = await websocket.recv()\n",
    "        print(result)\n",
    "\n",
    "# asyncio.get_event_loop().run_until_complete(socket_sub())\n",
    "\n",
    "\n",
    "# socket = connect(\"wss://ws.blockchain.info/inv\")\n",
    "# socket.send()\n",
    "# result = socket.recv()\n",
    "# print(result)\n",
    "# while True:\n",
    "#     result = ws.recv()\n",
    "#     result = json.loads(result)\n",
    "#     print (\"Received '%s'\" % result)\n",
    "\n",
    "async def consumer_handler(websocket, path):\n",
    "    while True:\n",
    "        message = await websocket.recv()\n",
    "        print(message)\n",
    "        await websocket.send(json.dumps({\"op\":\"addr_sub\", \"addr\":my_BTC_address}))\n",
    "        \n",
    "ws = websockets.connect(\"wss://ws.blockchain.info/inv\")\n",
    "consumer_handler(ws,\"wss://ws.blockchain.info/inv\")\n",
    "\n",
    "\n",
    "# socket_sub()"
   ]
  },
  {
   "cell_type": "code",
   "execution_count": 28,
   "metadata": {
    "collapsed": false
   },
   "outputs": [
    {
     "name": "stdout",
     "output_type": "stream",
     "text": [
      "pending\n"
     ]
    }
   ],
   "source": [
    "# ws = connect(\"wss://ws.blockchain.info/inv\")\n",
    "# ws.send(json.dumps({\"op\":\"addr_sub\", \"addr\":my_BTC_address}))\n",
    "# \n",
    "#     result = ws.recv()\n",
    "#     result = json.loads(result)\n",
    "#     print (\"Received '%s'\" % result)\n",
    "    \n",
    "    \n",
    "ws = create_connection(\"wss://ws.blockchain.info/inv\")\n",
    "ws.send(json.dumps({\"op\":\"unconfirmed_sub\"}))     #{\"op\":\"addr_sub\", \"addr\":my_BTC_address})) #Uncomment the different \"op\" for desired check\n",
    "#print (ws)\n",
    "#while True:\n",
    "#     print(\"pending\")\n",
    "#     result =  ws.recv()\n",
    "#     if result....\n",
    "#     print (result)\n",
    "\n",
    "\n",
    "#ws.close()\n",
    "    \n",
    "print(\"pending\")\n",
    "result =  ws.recv()\n",
    "# print (result)\n",
    "ws.close()"
   ]
  },
  {
   "cell_type": "code",
   "execution_count": 32,
   "metadata": {
    "collapsed": false
   },
   "outputs": [
    {
     "name": "stdout",
     "output_type": "stream",
     "text": [
      "[{'sequence': 4294967295, 'script': '473044022011749aec8e792511d7c782b954460f23d841686c3ab431fd0c3f4a80de3b4ca702207c312b7c00c0272fdf53b46bfce8a865f16fdf8dce644c3c4ff5472f63ca24f101210381ca2e9f18954bb5efce36f9d52cc5f53f46f447c46f711b728672cfef8d0258', 'prev_out': {'type': 0, 'spent': True, 'tx_index': 287143245, 'value': 8717194, 'script': '76a9148411c51aee112267998bb75ad6839713ca304c0488ac', 'n': 1, 'addr': '1D3KUzw7BGwEut2eJBW6YEVd5cUTpfDHba'}}]\n",
      "{\n",
      "  \"op\" : \"utx\",\n",
      "  \"x\" : {\n",
      "    \"lock_time\" : 0,\n",
      "    \"ver\" : 1,\n",
      "    \"size\" : 225,\n",
      "    \"inputs\" : [ {\n",
      "      \"sequence\" : 4294967295,\n",
      "      \"prev_out\" : {\n",
      "        \"spent\" : true,\n",
      "        \"tx_index\" : 287143245,\n",
      "        \"type\" : 0,\n",
      "        \"addr\" : \"1D3KUzw7BGwEut2eJBW6YEVd5cUTpfDHba\",\n",
      "        \"value\" : 8717194,\n",
      "        \"n\" : 1,\n",
      "        \"script\" : \"76a9148411c51aee112267998bb75ad6839713ca304c0488ac\"\n",
      "      },\n",
      "      \"script\" : \"473044022011749aec8e792511d7c782b954460f23d841686c3ab431fd0c3f4a80de3b4ca702207c312b7c00c0272fdf53b46bfce8a865f16fdf8dce644c3c4ff5472f63ca24f101210381ca2e9f18954bb5efce36f9d52cc5f53f46f447c46f711b728672cfef8d0258\"\n",
      "    } ],\n",
      "    \"time\" : 1506761589,\n",
      "    \"tx_index\" : 287143331,\n",
      "    \"vin_sz\" : 1,\n",
      "    \"hash\" : \"b522b3e51b830ca3470defe2bb58dd8b25e9db4491815b9e1ee5710c83726ebc\",\n",
      "    \"vout_sz\" : 2,\n",
      "    \"relayed_by\" : \"127.0.0.1\",\n",
      "    \"out\" : [ {\n",
      "      \"spent\" : false,\n",
      "      \"tx_index\" : 287143331,\n",
      "      \"type\" : 0,\n",
      "      \"addr\" : \"13L9vVJMj9HNf55b3CJY2m1n45kACZnNoB\",\n",
      "      \"value\" : 372800,\n",
      "      \"n\" : 0,\n",
      "      \"script\" : \"76a914198f9a4c185fdc3c4de5044ce9c28cb736e1340e88ac\"\n",
      "    }, {\n",
      "      \"spent\" : false,\n",
      "      \"tx_index\" : 287143331,\n",
      "      \"type\" : 0,\n",
      "      \"addr\" : \"18jrHPVqFM6cZTKDauRNvs1tmgBvukAc68\",\n",
      "      \"value\" : 8343264,\n",
      "      \"n\" : 1,\n",
      "      \"script\" : \"76a91454e37d68ed67010800c9ac2b66c7eb4133316e5288ac\"\n",
      "    } ]\n",
      "  }\n",
      "}\n"
     ]
    }
   ],
   "source": [
    "print(json.loads(result)[\"x\"][\"inputs\"])\n",
    "print(result)"
   ]
  },
  {
   "cell_type": "code",
   "execution_count": null,
   "metadata": {
    "collapsed": true
   },
   "outputs": [],
   "source": [
    "\n",
    "#Confirm Transaction\n",
    "\n",
    "#Confirm the amount sent to our address\n",
    "if randVal <= 10000:\n",
    "    \n",
    "\n",
    "#Confirm the there is a tx fee greater than a threshold\n",
    "\n"
   ]
  }
 ],
 "metadata": {
  "anaconda-cloud": {},
  "kernelspec": {
   "display_name": "Python [conda root]",
   "language": "python",
   "name": "conda-root-py"
  },
  "language_info": {
   "codemirror_mode": {
    "name": "ipython",
    "version": 3
   },
   "file_extension": ".py",
   "mimetype": "text/x-python",
   "name": "python",
   "nbconvert_exporter": "python",
   "pygments_lexer": "ipython3",
   "version": "3.5.2"
  }
 },
 "nbformat": 4,
 "nbformat_minor": 2
}
