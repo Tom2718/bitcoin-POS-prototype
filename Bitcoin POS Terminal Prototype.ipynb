{
 "cells": [
  {
   "cell_type": "markdown",
   "metadata": {},
   "source": [
    "# QR Code Transaction Creator and Checker\n",
    "\n",
    "Background\n",
    "\n",
    "\n",
    "Shops need to have a fast way of accepting digital transactions. As indicated by Bitcoin analyst, Andreas Antonopolous, for small bitcoin transactions, waiting for confirmations is as unneccessary as waiting for a credit card company to comfirm. Hence this notebook will focus on instant creation of a bitcoin transaction qr code and checking for successful broadcasting of the transacttion.\n",
    "\n",
    "\n",
    "\n",
    "Goals:\n",
    "\n",
    "- Take input as value of item in rand\n",
    "- Convert value to BTC using live price from Luno\n",
    "- Display QR code to customers with custom transaction\n",
    "- Monitor Blochain.info for broadcast transaction\n",
    "- Display payment success when transaction found"
   ]
  },
  {
   "cell_type": "code",
   "execution_count": 51,
   "metadata": {
    "collapsed": false
   },
   "outputs": [
    {
     "ename": "ImportError",
     "evalue": "No module named 'websockets'",
     "output_type": "error",
     "traceback": [
      "\u001b[0;31m---------------------------------------------------------------------------\u001b[0m",
      "\u001b[0;31mImportError\u001b[0m                               Traceback (most recent call last)",
      "\u001b[0;32m<ipython-input-51-c881ab67ac29>\u001b[0m in \u001b[0;36m<module>\u001b[0;34m()\u001b[0m\n\u001b[1;32m      2\u001b[0m \u001b[1;32mfrom\u001b[0m \u001b[0mwebbrowser\u001b[0m \u001b[1;32mimport\u001b[0m \u001b[0mopen_new_tab\u001b[0m\u001b[1;33m\u001b[0m\u001b[0m\n\u001b[1;32m      3\u001b[0m \u001b[1;32mimport\u001b[0m \u001b[0mfeedparser\u001b[0m\u001b[1;33m\u001b[0m\u001b[0m\n\u001b[0;32m----> 4\u001b[0;31m \u001b[1;32mfrom\u001b[0m \u001b[0mwebsockets\u001b[0m \u001b[1;32mimport\u001b[0m \u001b[0mcreate_connection\u001b[0m\u001b[1;33m\u001b[0m\u001b[0m\n\u001b[0m",
      "\u001b[0;31mImportError\u001b[0m: No module named 'websockets'"
     ]
    }
   ],
   "source": [
    "from requests import *\n",
    "from webbrowser import open_new_tab\n",
    "import feedparser\n",
    "from websockets import create_connection"
   ]
  },
  {
   "cell_type": "code",
   "execution_count": 16,
   "metadata": {
    "collapsed": false
   },
   "outputs": [],
   "source": [
    "#Enter Details of Product/total price and some description (possibly just default to shop name)\n",
    "\n",
    "#Rand Value of Products\n",
    "randVal = 125.56\n",
    "\n",
    "#Description of Products\n",
    "desc = \"billys-coffee-shop\""
   ]
  },
  {
   "cell_type": "code",
   "execution_count": 17,
   "metadata": {
    "collapsed": false
   },
   "outputs": [],
   "source": [
    "# Hard-code your bitcoin address\n",
    "my_BTC_address = \"1CGVT1BTV6Q2wpSm1R2vp8L4nCPgq4BuCQ\""
   ]
  },
  {
   "cell_type": "code",
   "execution_count": 18,
   "metadata": {
    "collapsed": false
   },
   "outputs": [],
   "source": [
    "#Calculate value of item in BTC using Current Luno Price\n",
    "\n",
    "#Get Luno price\n",
    "luno_xrate = get(\"https://api.mybitx.com/api/1/ticker?pair=XBTZAR\").json()['ask']\n",
    "\n",
    "#Calculate the BTC value from the rand value\n",
    "amount = round(randVal/float(luno_xrate),8)"
   ]
  },
  {
   "cell_type": "code",
   "execution_count": 19,
   "metadata": {
    "collapsed": false
   },
   "outputs": [],
   "source": [
    "#Generate QR Code\n",
    "\n",
    "#Generate the URL for creating the QR Code\n",
    "btcURL = str(\"https://chart.googleapis.com/chart?chs=250x250&cht=qr&&chl=bitcoin:\" + \n",
    "            my_BTC_address + \n",
    "            \"?amount=\" +\n",
    "            str(amount) +\n",
    "            \"&label=\" +\n",
    "            desc)"
   ]
  },
  {
   "cell_type": "code",
   "execution_count": 20,
   "metadata": {
    "collapsed": false
   },
   "outputs": [
    {
     "data": {
      "text/plain": [
       "True"
      ]
     },
     "execution_count": 20,
     "metadata": {},
     "output_type": "execute_result"
    }
   ],
   "source": [
    "#One possibility is to just open each new generated URL in a browser;\n",
    "#maybe the application will work in the browser even\n",
    "open_new_tab(btcURL)"
   ]
  },
  {
   "cell_type": "markdown",
   "metadata": {},
   "source": [
    "Example Screenshot of Generated QR Code\n",
    "<img src=\"http://github.com/tom2718\">"
   ]
  },
  {
   "cell_type": "code",
   "execution_count": 47,
   "metadata": {
    "collapsed": false
   },
   "outputs": [
    {
     "data": {
      "text/plain": [
       "10"
      ]
     },
     "execution_count": 47,
     "metadata": {},
     "output_type": "execute_result"
    }
   ],
   "source": [
    "#Check status of Transaction\n",
    "\n",
    "#Subribe to RSS feed of blockchain.info for any new transactions sent to your Address\n",
    "confirm = get(\"https://blockchain.info/rawaddr/\"+my_BTC_address+\"?filter=2\").json()\n",
    "confirm['n_tx']\n"
   ]
  },
  {
   "cell_type": "code",
   "execution_count": 50,
   "metadata": {
    "collapsed": false
   },
   "outputs": [
    {
     "data": {
      "text/plain": [
       "{'bozo': 1,\n",
       " 'bozo_exception': xml.sax._exceptions.SAXParseException('not well-formed (invalid token)'),\n",
       " 'encoding': 'utf-8',\n",
       " 'entries': [],\n",
       " 'feed': {},\n",
       " 'namespaces': {},\n",
       " 'version': ''}"
      ]
     },
     "execution_count": 50,
     "metadata": {},
     "output_type": "execute_result"
    }
   ],
   "source": [
    "feedparser.parse(\"wss://ws.blockchain.info/inv\")"
   ]
  },
  {
   "cell_type": "code",
   "execution_count": null,
   "metadata": {
    "collapsed": true
   },
   "outputs": [],
   "source": [
    "\n",
    "#Confirm Transaction\n",
    "\n",
    "#Confirm the amount sent to our address\n",
    "if randVal <= 10000:\n",
    "    \n",
    "\n",
    "#Confirm the there is a tx fee greater than a threshold\n",
    "\n"
   ]
  }
 ],
 "metadata": {
  "anaconda-cloud": {},
  "kernelspec": {
   "display_name": "Python [conda root]",
   "language": "python",
   "name": "conda-root-py"
  },
  "language_info": {
   "codemirror_mode": {
    "name": "ipython",
    "version": 3
   },
   "file_extension": ".py",
   "mimetype": "text/x-python",
   "name": "python",
   "nbconvert_exporter": "python",
   "pygments_lexer": "ipython3",
   "version": "3.5.2"
  }
 },
 "nbformat": 4,
 "nbformat_minor": 2
}
